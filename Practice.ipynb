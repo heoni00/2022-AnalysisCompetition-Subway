{
 "cells": [
  {
   "cell_type": "markdown",
   "id": "99ee28fc-18a6-4f1a-81e4-c4108df17b9a",
   "metadata": {
    "tags": []
   },
   "source": [
    "### Import"
   ]
  },
  {
   "cell_type": "code",
   "execution_count": 2,
   "id": "0cad7272-f5d1-4abb-baf8-a16f7cec3780",
   "metadata": {},
   "outputs": [],
   "source": [
    "# 데이터 처리 \n",
    "import pandas as pd\n",
    "import numpy as np\n",
    "# 시각화\n",
    "import matplotlib.pyplot as plt\n",
    "import seaborn as sns\n",
    "import folium\n",
    "# 파일 관리 \n",
    "import os"
   ]
  },
  {
   "cell_type": "markdown",
   "id": "ec577836-fae4-44a5-8fbf-c3ee67b9e5c0",
   "metadata": {
    "tags": []
   },
   "source": [
    "## EDA"
   ]
  },
  {
   "cell_type": "markdown",
   "id": "892b299a-7b27-49ff-bbcf-ee534204cbc9",
   "metadata": {
    "tags": []
   },
   "source": [
    "### Read Data"
   ]
  },
  {
   "cell_type": "markdown",
   "id": "50eaa379-7fbb-46ce-bed9-ff1b423a5cd2",
   "metadata": {},
   "source": [
    "`-` 데이터 확인하기."
   ]
  },
  {
   "cell_type": "code",
   "execution_count": 5,
   "id": "e2358ec1-0851-4b12-a184-ac5150c232a6",
   "metadata": {},
   "outputs": [
    {
     "data": {
      "text/plain": [
       "'C:\\\\Users\\\\oldcar\\\\Documents\\\\GitHub\\\\2022-AnalysisCompetition-Subway'"
      ]
     },
     "execution_count": 5,
     "metadata": {},
     "output_type": "execute_result"
    }
   ],
   "source": [
    "os.getcwd()"
   ]
  },
  {
   "cell_type": "code",
   "execution_count": 6,
   "id": "d0588e41-ec73-484f-a178-d1f408970ead",
   "metadata": {
    "collapsed": true,
    "jupyter": {
     "outputs_hidden": true
    },
    "tags": []
   },
   "outputs": [
    {
     "name": "stdout",
     "output_type": "stream",
     "text": [
      "C:\\Users\\oldcar\\Documents\\GitHub\\2022-AnalysisCompetition-Subway\\Data\\Found Data\\공기질_승객수_통합.csv\n",
      "C:\\Users\\oldcar\\Documents\\GitHub\\2022-AnalysisCompetition-Subway\\Data\\Found Data\\서울교통공사_역사건축정보_20200331.csv\n",
      "C:\\Users\\oldcar\\Documents\\GitHub\\2022-AnalysisCompetition-Subway\\Data\\Found Data\\서울교통공사_역사심도정보_20200929.csv\n",
      "C:\\Users\\oldcar\\Documents\\GitHub\\2022-AnalysisCompetition-Subway\\Data\\Found Data\\서울교통공사_월별승하차인원_20201231.csv\n",
      "C:\\Users\\oldcar\\Documents\\GitHub\\2022-AnalysisCompetition-Subway\\Data\\Found Data\\서울교통공사_환기구정보_202006.csv\n",
      "C:\\Users\\oldcar\\Documents\\GitHub\\2022-AnalysisCompetition-Subway\\Data\\Found Data\\좌표.csv\n",
      "C:\\Users\\oldcar\\Documents\\GitHub\\2022-AnalysisCompetition-Subway\\Data\\Given Data\\aircondition_2020.xlsx\n",
      "C:\\Users\\oldcar\\Documents\\GitHub\\2022-AnalysisCompetition-Subway\\Data\\Given Data\\data1.csv\n",
      "C:\\Users\\oldcar\\Documents\\GitHub\\2022-AnalysisCompetition-Subway\\Data\\Given Data\\data2.csv\n",
      "C:\\Users\\oldcar\\Documents\\GitHub\\2022-AnalysisCompetition-Subway\\Data\\Given Data\\data3.csv\n",
      "C:\\Users\\oldcar\\Documents\\GitHub\\2022-AnalysisCompetition-Subway\\Data\\Given Data\\passengers2020.csv\n"
     ]
    }
   ],
   "source": [
    "for path, _, files in os.walk(os.getcwd() + '\\\\Data'):\n",
    "    for filename in files:\n",
    "        print(os.path.join(path, filename))"
   ]
  },
  {
   "cell_type": "markdown",
   "id": "88fc321c-574f-456e-bc80-dfb92a798bce",
   "metadata": {},
   "source": [
    "`-` 데이터 가져오기. "
   ]
  },
  {
   "cell_type": "code",
   "execution_count": 16,
   "id": "1d38f1e8-1ab9-4e07-bae2-c97b9fb49833",
   "metadata": {},
   "outputs": [],
   "source": [
    "congestion=pd.read_csv('Data/Given Data/data1.csv') # 지하철 혼잡도 데이터\n",
    "aircondition = pd.read_csv('Data/Given Data/data2.csv') # 지하철 공기질 데이터 \n",
    "station = pd.read_csv('Data/Given Data/data3.csv') # 지하철 정보 데이터\n",
    "passengers = pd.read_csv('Data/Given Data/passengers2020.csv') # 지하철 별 승객 수 데이터"
   ]
  },
  {
   "cell_type": "markdown",
   "id": "47bdee79-667a-429c-b852-621e2431647f",
   "metadata": {},
   "source": [
    "### Preprocessing"
   ]
  },
  {
   "cell_type": "markdown",
   "id": "5f5dee51-8d84-4a69-8354-21c3587f0408",
   "metadata": {},
   "source": [
    "#### congestion"
   ]
  },
  {
   "cell_type": "code",
   "execution_count": 32,
   "id": "2f780681-144b-490d-91e1-6d3bcaeb3d64",
   "metadata": {
    "collapsed": true,
    "jupyter": {
     "outputs_hidden": true
    },
    "tags": []
   },
   "outputs": [
    {
     "name": "stdout",
     "output_type": "stream",
     "text": [
      "조사일자           0\n",
      "호선             0\n",
      "역번호            0\n",
      "역명             0\n",
      "구분             0\n",
      "5:30          32\n",
      "6:00          10\n",
      "6:30          10\n",
      "7:00          10\n",
      "7:30          10\n",
      "8:00          10\n",
      "8:30          10\n",
      "9:00          10\n",
      "9:30          10\n",
      "10:00         10\n",
      "10:30         10\n",
      "11:00         10\n",
      "11:30         10\n",
      "12:00         10\n",
      "12:30         10\n",
      "13:00         10\n",
      "13:30         10\n",
      "14:00         10\n",
      "14:30         10\n",
      "15:00         10\n",
      "15:30         10\n",
      "16:00         10\n",
      "16:30         10\n",
      "17:00         10\n",
      "17:30         10\n",
      "18:00         10\n",
      "18:30         10\n",
      "19:00         10\n",
      "19:30         10\n",
      "20:00         10\n",
      "20:30         10\n",
      "21:00         10\n",
      "21:30         10\n",
      "22:00         10\n",
      "22:30         10\n",
      "23:00         10\n",
      "23:30         22\n",
      "24:00:00    1112\n",
      "24:30:00    1112\n",
      "dtype: int64\n",
      "(1668, 44)\n"
     ]
    }
   ],
   "source": [
    "congestion.head() #전처리 필요없음. \n",
    "print(congestion.isnull().sum()) #널값이 있지만 해당 시각에 운행하지 않은 정보도 필요\n",
    "print(congestion.shape)"
   ]
  },
  {
   "cell_type": "markdown",
   "id": "c2efb1a2-1ba6-4457-8c99-87a7f26f32f4",
   "metadata": {},
   "source": [
    "#### aircondition"
   ]
  },
  {
   "cell_type": "code",
   "execution_count": 17,
   "id": "ce261797-34d2-46f7-84a8-24b6c4cef247",
   "metadata": {},
   "outputs": [
    {
     "data": {
      "text/html": [
       "<div>\n",
       "<style scoped>\n",
       "    .dataframe tbody tr th:only-of-type {\n",
       "        vertical-align: middle;\n",
       "    }\n",
       "\n",
       "    .dataframe tbody tr th {\n",
       "        vertical-align: top;\n",
       "    }\n",
       "\n",
       "    .dataframe thead th {\n",
       "        text-align: right;\n",
       "    }\n",
       "</style>\n",
       "<table border=\"1\" class=\"dataframe\">\n",
       "  <thead>\n",
       "    <tr style=\"text-align: right;\">\n",
       "      <th></th>\n",
       "      <th>호선</th>\n",
       "      <th>역사명</th>\n",
       "      <th>미세먼지(PM10)</th>\n",
       "      <th>이산화탄소(CO2)</th>\n",
       "      <th>포름알데히드(HCHO)</th>\n",
       "      <th>일산화탄소(CO)</th>\n",
       "    </tr>\n",
       "  </thead>\n",
       "  <tbody>\n",
       "    <tr>\n",
       "      <th>0</th>\n",
       "      <td>1</td>\n",
       "      <td>서울역1</td>\n",
       "      <td>76.4</td>\n",
       "      <td>627</td>\n",
       "      <td>16.4</td>\n",
       "      <td>0.6</td>\n",
       "    </tr>\n",
       "    <tr>\n",
       "      <th>1</th>\n",
       "      <td>1</td>\n",
       "      <td>시청1</td>\n",
       "      <td>100.7</td>\n",
       "      <td>610</td>\n",
       "      <td>17.8</td>\n",
       "      <td>1.0</td>\n",
       "    </tr>\n",
       "    <tr>\n",
       "      <th>2</th>\n",
       "      <td>1</td>\n",
       "      <td>종각</td>\n",
       "      <td>99.8</td>\n",
       "      <td>687</td>\n",
       "      <td>20.5</td>\n",
       "      <td>0.9</td>\n",
       "    </tr>\n",
       "    <tr>\n",
       "      <th>3</th>\n",
       "      <td>1</td>\n",
       "      <td>종로3가1</td>\n",
       "      <td>105.3</td>\n",
       "      <td>646</td>\n",
       "      <td>20.6</td>\n",
       "      <td>1.3</td>\n",
       "    </tr>\n",
       "    <tr>\n",
       "      <th>4</th>\n",
       "      <td>1</td>\n",
       "      <td>종로5가</td>\n",
       "      <td>99.4</td>\n",
       "      <td>532</td>\n",
       "      <td>16.4</td>\n",
       "      <td>1.1</td>\n",
       "    </tr>\n",
       "  </tbody>\n",
       "</table>\n",
       "</div>"
      ],
      "text/plain": [
       "   호선    역사명  미세먼지(PM10)  이산화탄소(CO2)  포름알데히드(HCHO)  일산화탄소(CO)\n",
       "0   1   서울역1        76.4         627          16.4        0.6\n",
       "1   1    시청1       100.7         610          17.8        1.0\n",
       "2   1     종각        99.8         687          20.5        0.9\n",
       "3   1  종로3가1       105.3         646          20.6        1.3\n",
       "4   1   종로5가        99.4         532          16.4        1.1"
      ]
     },
     "execution_count": 17,
     "metadata": {},
     "output_type": "execute_result"
    }
   ],
   "source": [
    "aircondition.head()"
   ]
  },
  {
   "cell_type": "markdown",
   "id": "f278ce3b-9913-4e81-9e18-97b7b1419fb6",
   "metadata": {},
   "source": [
    "공기질 점수를 만들어야 하니 가중합을 사용해야한다. "
   ]
  },
  {
   "cell_type": "code",
   "execution_count": 37,
   "id": "31a19273-576a-4210-99ec-2475255d1c81",
   "metadata": {},
   "outputs": [
    {
     "data": {
      "text/plain": [
       "[1, 2, 3, 4, 5, 6, 7, 8]"
      ]
     },
     "execution_count": 37,
     "metadata": {},
     "output_type": "execute_result"
    }
   ],
   "source": [
    "line_num = [f'{i}' for i in range(1,9)] # 8호선까지만 있는것 확인\n",
    "line_num"
   ]
  },
  {
   "cell_type": "code",
   "execution_count": 23,
   "id": "deca6ebd-9b0e-45c6-bdc5-9af5f1072bed",
   "metadata": {},
   "outputs": [
    {
     "ename": "SyntaxError",
     "evalue": "invalid syntax (4193547217.py, line 1)",
     "output_type": "error",
     "traceback": [
      "\u001b[1;36m  Input \u001b[1;32mIn [23]\u001b[1;36m\u001b[0m\n\u001b[1;33m    aircondition['호선'].\u001b[0m\n\u001b[1;37m                       ^\u001b[0m\n\u001b[1;31mSyntaxError\u001b[0m\u001b[1;31m:\u001b[0m invalid syntax\n"
     ]
    }
   ],
   "source": [
    "aircondition['호선']"
   ]
  },
  {
   "cell_type": "code",
   "execution_count": null,
   "id": "a6393e20-1912-4051-88a0-a8bf7c0941f1",
   "metadata": {},
   "outputs": [],
   "source": []
  }
 ],
 "metadata": {
  "kernelspec": {
   "display_name": "Python 3 (ipykernel)",
   "language": "python",
   "name": "python3"
  },
  "language_info": {
   "codemirror_mode": {
    "name": "ipython",
    "version": 3
   },
   "file_extension": ".py",
   "mimetype": "text/x-python",
   "name": "python",
   "nbconvert_exporter": "python",
   "pygments_lexer": "ipython3",
   "version": "3.9.12"
  }
 },
 "nbformat": 4,
 "nbformat_minor": 5
}
