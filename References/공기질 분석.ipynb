{
 "cells": [
  {
   "cell_type": "code",
   "execution_count": 1,
   "metadata": {
    "ExecuteTime": {
     "end_time": "2021-06-08T08:48:55.411572Z",
     "start_time": "2021-06-08T08:48:53.097991Z"
    },
    "execution": {
     "iopub.execute_input": "2022-01-17T04:54:14.973060Z",
     "iopub.status.busy": "2022-01-17T04:54:14.972849Z",
     "iopub.status.idle": "2022-01-17T04:54:15.399437Z",
     "shell.execute_reply": "2022-01-17T04:54:15.398757Z",
     "shell.execute_reply.started": "2022-01-17T04:54:14.973040Z"
    },
    "tags": []
   },
   "outputs": [
    {
     "name": "stdout",
     "output_type": "stream",
     "text": [
      "ERROR! Session/line number was not unique in database. History logging moved to new session 577\n"
     ]
    },
    {
     "ename": "AttributeError",
     "evalue": "partially initialized module 'pandas' has no attribute 'core' (most likely due to a circular import)",
     "output_type": "error",
     "traceback": [
      "\u001b[0;31m---------------------------------------------------------------------------\u001b[0m",
      "\u001b[0;31mAttributeError\u001b[0m                            Traceback (most recent call last)",
      "\u001b[0;32m/var/folders/zy/8wq2kzqj3z7g_fc906t_vfn40000gn/T/ipykernel_25700/4023647454.py\u001b[0m in \u001b[0;36m<module>\u001b[0;34m\u001b[0m\n\u001b[1;32m      1\u001b[0m \u001b[0;31m###library###\u001b[0m\u001b[0;34m\u001b[0m\u001b[0;34m\u001b[0m\u001b[0;34m\u001b[0m\u001b[0m\n\u001b[0;32m----> 2\u001b[0;31m \u001b[0;32mimport\u001b[0m \u001b[0mpandas\u001b[0m \u001b[0;32mas\u001b[0m \u001b[0mpd\u001b[0m\u001b[0;34m\u001b[0m\u001b[0;34m\u001b[0m\u001b[0m\n\u001b[0m\u001b[1;32m      3\u001b[0m \u001b[0;32mimport\u001b[0m \u001b[0mos\u001b[0m\u001b[0;34m\u001b[0m\u001b[0;34m\u001b[0m\u001b[0m\n\u001b[1;32m      4\u001b[0m \u001b[0;32mimport\u001b[0m \u001b[0msqlite3\u001b[0m\u001b[0;34m\u001b[0m\u001b[0;34m\u001b[0m\u001b[0m\n\u001b[1;32m      5\u001b[0m \u001b[0;32mfrom\u001b[0m \u001b[0mmatplotlib\u001b[0m \u001b[0;32mimport\u001b[0m \u001b[0mpyplot\u001b[0m \u001b[0;32mas\u001b[0m \u001b[0mplt\u001b[0m\u001b[0;34m\u001b[0m\u001b[0;34m\u001b[0m\u001b[0m\n",
      "\u001b[0;32m~/opt/anaconda3/lib/python3.8/site-packages/pandas/__init__.py\u001b[0m in \u001b[0;36m<module>\u001b[0;34m\u001b[0m\n\u001b[1;32m    177\u001b[0m \u001b[0;34m\u001b[0m\u001b[0m\n\u001b[1;32m    178\u001b[0m \u001b[0;32mfrom\u001b[0m \u001b[0mpandas\u001b[0m\u001b[0;34m.\u001b[0m\u001b[0mutil\u001b[0m\u001b[0;34m.\u001b[0m\u001b[0m_tester\u001b[0m \u001b[0;32mimport\u001b[0m \u001b[0mtest\u001b[0m\u001b[0;34m\u001b[0m\u001b[0;34m\u001b[0m\u001b[0m\n\u001b[0;32m--> 179\u001b[0;31m \u001b[0;32mimport\u001b[0m \u001b[0mpandas\u001b[0m\u001b[0;34m.\u001b[0m\u001b[0mtesting\u001b[0m\u001b[0;34m\u001b[0m\u001b[0;34m\u001b[0m\u001b[0m\n\u001b[0m\u001b[1;32m    180\u001b[0m \u001b[0;32mimport\u001b[0m \u001b[0mpandas\u001b[0m\u001b[0;34m.\u001b[0m\u001b[0marrays\u001b[0m\u001b[0;34m\u001b[0m\u001b[0;34m\u001b[0m\u001b[0m\n\u001b[1;32m    181\u001b[0m \u001b[0;34m\u001b[0m\u001b[0m\n",
      "\u001b[0;32m~/opt/anaconda3/lib/python3.8/site-packages/pandas/testing.py\u001b[0m in \u001b[0;36m<module>\u001b[0;34m\u001b[0m\n\u001b[1;32m      4\u001b[0m \u001b[0;34m\u001b[0m\u001b[0m\n\u001b[1;32m      5\u001b[0m \u001b[0;34m\u001b[0m\u001b[0m\n\u001b[0;32m----> 6\u001b[0;31m from pandas._testing import (\n\u001b[0m\u001b[1;32m      7\u001b[0m     \u001b[0massert_extension_array_equal\u001b[0m\u001b[0;34m,\u001b[0m\u001b[0;34m\u001b[0m\u001b[0;34m\u001b[0m\u001b[0m\n\u001b[1;32m      8\u001b[0m     \u001b[0massert_frame_equal\u001b[0m\u001b[0;34m,\u001b[0m\u001b[0;34m\u001b[0m\u001b[0;34m\u001b[0m\u001b[0m\n",
      "\u001b[0;32m~/opt/anaconda3/lib/python3.8/site-packages/pandas/_testing/__init__.py\u001b[0m in \u001b[0;36m<module>\u001b[0;34m\u001b[0m\n\u001b[1;32m    946\u001b[0m \u001b[0;34m\u001b[0m\u001b[0m\n\u001b[1;32m    947\u001b[0m \u001b[0;34m\u001b[0m\u001b[0m\n\u001b[0;32m--> 948\u001b[0;31m \u001b[0mcython_table\u001b[0m \u001b[0;34m=\u001b[0m \u001b[0mpd\u001b[0m\u001b[0;34m.\u001b[0m\u001b[0mcore\u001b[0m\u001b[0;34m.\u001b[0m\u001b[0mcommon\u001b[0m\u001b[0;34m.\u001b[0m\u001b[0m_cython_table\u001b[0m\u001b[0;34m.\u001b[0m\u001b[0mitems\u001b[0m\u001b[0;34m(\u001b[0m\u001b[0;34m)\u001b[0m\u001b[0;34m\u001b[0m\u001b[0;34m\u001b[0m\u001b[0m\n\u001b[0m\u001b[1;32m    949\u001b[0m \u001b[0;34m\u001b[0m\u001b[0m\n\u001b[1;32m    950\u001b[0m \u001b[0;34m\u001b[0m\u001b[0m\n",
      "\u001b[0;31mAttributeError\u001b[0m: partially initialized module 'pandas' has no attribute 'core' (most likely due to a circular import)"
     ]
    }
   ],
   "source": [
    "###library###\n",
    "import pandas as pd\n",
    "import os\n",
    "import sqlite3\n",
    "from matplotlib import pyplot as plt\n",
    "import seaborn as sns\n",
    "from statsmodels.formula.api import ols\n",
    "from statsmodels.stats.anova import anova_lm\n",
    "from scipy.stats import ttest_ind\n",
    "\n",
    "plt.rcParams['font.family'] = 'NanumGothic' #한글 깨짐 방지를 위해 폰트설정"
   ]
  },
  {
   "cell_type": "code",
   "execution_count": 8,
   "metadata": {
    "execution": {
     "iopub.execute_input": "2022-01-17T05:11:10.697477Z",
     "iopub.status.busy": "2022-01-17T05:11:10.697234Z",
     "iopub.status.idle": "2022-01-17T05:11:46.887537Z",
     "shell.execute_reply": "2022-01-17T05:11:46.886619Z",
     "shell.execute_reply.started": "2022-01-17T05:11:10.697457Z"
    },
    "tags": []
   },
   "outputs": [
    {
     "name": "stdout",
     "output_type": "stream",
     "text": [
      "Collecting package metadata (current_repodata.json): ...working... done\n",
      "Solving environment: ...working... done\n",
      "\n",
      "## Package Plan ##\n",
      "\n",
      "  environment location: /Users/ko/opt/anaconda3\n",
      "\n",
      "  added / updated specs:\n",
      "    - r-base\n",
      "\n",
      "\n",
      "The following packages will be downloaded:\n",
      "\n",
      "    package                    |            build\n",
      "    ---------------------------|-----------------\n",
      "    ca-certificates-2021.10.8  |       h033912b_0         139 KB  conda-forge\n",
      "    certifi-2021.10.8          |   py38h50d1736_1         145 KB  conda-forge\n",
      "    conda-4.11.0               |   py38h50d1736_0        16.9 MB  conda-forge\n",
      "    ------------------------------------------------------------\n",
      "                                           Total:        17.2 MB\n",
      "\n",
      "The following NEW packages will be INSTALLED:\n",
      "\n",
      "  python_abi         conda-forge/osx-64::python_abi-3.8-2_cp38\n",
      "\n",
      "The following packages will be SUPERSEDED by a higher-priority channel:\n",
      "\n",
      "  ca-certificates    pkgs/main::ca-certificates-2021.10.26~ --> conda-forge::ca-certificates-2021.10.8-h033912b_0\n",
      "  certifi            pkgs/main::certifi-2021.10.8-py38hecd~ --> conda-forge::certifi-2021.10.8-py38h50d1736_1\n",
      "  conda              pkgs/main::conda-4.11.0-py38hecd8cb5_0 --> conda-forge::conda-4.11.0-py38h50d1736_0\n",
      "  openssl              pkgs/main::openssl-1.1.1m-hca72f7f_0 --> conda-forge::openssl-1.1.1l-h0d85af4_0\n",
      "\n",
      "\n",
      "Proceed ([y]/n)? \n",
      "\n",
      "Downloading and Extracting Packages\n",
      "ca-certificates-2021 | 139 KB    | ########## | 100% \n",
      "conda-4.11.0         | 16.9 MB   | ########## | 100% \n",
      "certifi-2021.10.8    | 145 KB    | ########## | 100% \n",
      "Preparing transaction: ...working... done\n",
      "Verifying transaction: ...working... done\n",
      "Executing transaction: ...working... done\n",
      "Requirement already satisfied: rpy2 in /Users/ko/opt/anaconda3/lib/python3.8/site-packages (3.4.5)\n",
      "Requirement already satisfied: jinja2 in /Users/ko/opt/anaconda3/lib/python3.8/site-packages (from rpy2) (2.11.3)\n",
      "Requirement already satisfied: tzlocal in /Users/ko/opt/anaconda3/lib/python3.8/site-packages (from rpy2) (4.1)\n",
      "Requirement already satisfied: cffi>=1.10.0 in /Users/ko/opt/anaconda3/lib/python3.8/site-packages (from rpy2) (1.14.6)\n",
      "Requirement already satisfied: pytz in /Users/ko/opt/anaconda3/lib/python3.8/site-packages (from rpy2) (2021.1)\n",
      "Requirement already satisfied: pycparser in /Users/ko/opt/anaconda3/lib/python3.8/site-packages (from cffi>=1.10.0->rpy2) (2.20)\n",
      "Requirement already satisfied: MarkupSafe>=0.23 in /Users/ko/opt/anaconda3/lib/python3.8/site-packages (from jinja2->rpy2) (2.0.1)\n",
      "Requirement already satisfied: backports.zoneinfo in /Users/ko/opt/anaconda3/lib/python3.8/site-packages (from tzlocal->rpy2) (0.2.1)\n",
      "Requirement already satisfied: pytz-deprecation-shim in /Users/ko/opt/anaconda3/lib/python3.8/site-packages (from tzlocal->rpy2) (0.1.0.post0)\n",
      "Requirement already satisfied: tzdata in /Users/ko/opt/anaconda3/lib/python3.8/site-packages (from pytz-deprecation-shim->tzlocal->rpy2) (2021.5)\n"
     ]
    },
    {
     "name": "stderr",
     "output_type": "stream",
     "text": [
      "WARNING:rpy2.rinterface_lib.callbacks:R[write to console]: Error in value[[3L]](cond) : \n",
      "  공유된 객체 '/Users/ko/opt/anaconda3/lib/R/library/methods/libs/methods.so'를 로드 할 수 없습니다:\n",
      "  dlopen(/Users/ko/opt/anaconda3/lib/R/library/methods/libs/methods.so, 6): Library not loaded: @rpath/libreadline.6.2.dylib\n",
      "  Referenced from: /Users/ko/opt/anaconda3/lib/R/lib/libR.dylib\n",
      "  Reason: image not found\n",
      "\n"
     ]
    },
    {
     "ename": "RRuntimeError",
     "evalue": "Error in value[[3L]](cond) : \n  공유된 객체 '/Users/ko/opt/anaconda3/lib/R/library/methods/libs/methods.so'를 로드 할 수 없습니다:\n  dlopen(/Users/ko/opt/anaconda3/lib/R/library/methods/libs/methods.so, 6): Library not loaded: @rpath/libreadline.6.2.dylib\n  Referenced from: /Users/ko/opt/anaconda3/lib/R/lib/libR.dylib\n  Reason: image not found\n",
     "output_type": "error",
     "traceback": [
      "\u001b[0;31m---------------------------------------------------------------------------\u001b[0m",
      "\u001b[0;31mRRuntimeError\u001b[0m                             Traceback (most recent call last)",
      "\u001b[0;32m/var/folders/zy/8wq2kzqj3z7g_fc906t_vfn40000gn/T/ipykernel_25700/2003485099.py\u001b[0m in \u001b[0;36m<module>\u001b[0;34m\u001b[0m\n\u001b[1;32m      3\u001b[0m \u001b[0msubprocess\u001b[0m\u001b[0;34m.\u001b[0m\u001b[0mrun\u001b[0m\u001b[0;34m(\u001b[0m\u001b[0;34m'conda install -c conda-forge r-base'\u001b[0m\u001b[0;34m,\u001b[0m \u001b[0mshell\u001b[0m\u001b[0;34m=\u001b[0m\u001b[0;32mTrue\u001b[0m\u001b[0;34m)\u001b[0m\u001b[0;34m\u001b[0m\u001b[0;34m\u001b[0m\u001b[0m\n\u001b[1;32m      4\u001b[0m \u001b[0mget_ipython\u001b[0m\u001b[0;34m(\u001b[0m\u001b[0;34m)\u001b[0m\u001b[0;34m.\u001b[0m\u001b[0msystem\u001b[0m\u001b[0;34m(\u001b[0m\u001b[0;34m'pip install rpy2'\u001b[0m\u001b[0;34m)\u001b[0m\u001b[0;34m\u001b[0m\u001b[0;34m\u001b[0m\u001b[0m\n\u001b[0;32m----> 5\u001b[0;31m \u001b[0mget_ipython\u001b[0m\u001b[0;34m(\u001b[0m\u001b[0;34m)\u001b[0m\u001b[0;34m.\u001b[0m\u001b[0mrun_line_magic\u001b[0m\u001b[0;34m(\u001b[0m\u001b[0;34m'load_ext'\u001b[0m\u001b[0;34m,\u001b[0m \u001b[0;34m'rpy2.ipython'\u001b[0m\u001b[0;34m)\u001b[0m\u001b[0;34m\u001b[0m\u001b[0;34m\u001b[0m\u001b[0m\n\u001b[0m\u001b[1;32m      6\u001b[0m \u001b[0;32mimport\u001b[0m \u001b[0mrpy2\u001b[0m\u001b[0;34m\u001b[0m\u001b[0;34m\u001b[0m\u001b[0m\n",
      "\u001b[0;32m~/opt/anaconda3/lib/python3.8/site-packages/IPython/core/interactiveshell.py\u001b[0m in \u001b[0;36mrun_line_magic\u001b[0;34m(self, magic_name, line, _stack_depth)\u001b[0m\n\u001b[1;32m   2346\u001b[0m                 \u001b[0mkwargs\u001b[0m\u001b[0;34m[\u001b[0m\u001b[0;34m'local_ns'\u001b[0m\u001b[0;34m]\u001b[0m \u001b[0;34m=\u001b[0m \u001b[0mself\u001b[0m\u001b[0;34m.\u001b[0m\u001b[0mget_local_scope\u001b[0m\u001b[0;34m(\u001b[0m\u001b[0mstack_depth\u001b[0m\u001b[0;34m)\u001b[0m\u001b[0;34m\u001b[0m\u001b[0;34m\u001b[0m\u001b[0m\n\u001b[1;32m   2347\u001b[0m             \u001b[0;32mwith\u001b[0m \u001b[0mself\u001b[0m\u001b[0;34m.\u001b[0m\u001b[0mbuiltin_trap\u001b[0m\u001b[0;34m:\u001b[0m\u001b[0;34m\u001b[0m\u001b[0;34m\u001b[0m\u001b[0m\n\u001b[0;32m-> 2348\u001b[0;31m                 \u001b[0mresult\u001b[0m \u001b[0;34m=\u001b[0m \u001b[0mfn\u001b[0m\u001b[0;34m(\u001b[0m\u001b[0;34m*\u001b[0m\u001b[0margs\u001b[0m\u001b[0;34m,\u001b[0m \u001b[0;34m**\u001b[0m\u001b[0mkwargs\u001b[0m\u001b[0;34m)\u001b[0m\u001b[0;34m\u001b[0m\u001b[0;34m\u001b[0m\u001b[0m\n\u001b[0m\u001b[1;32m   2349\u001b[0m             \u001b[0;32mreturn\u001b[0m \u001b[0mresult\u001b[0m\u001b[0;34m\u001b[0m\u001b[0;34m\u001b[0m\u001b[0m\n\u001b[1;32m   2350\u001b[0m \u001b[0;34m\u001b[0m\u001b[0m\n",
      "\u001b[0;32m~/opt/anaconda3/lib/python3.8/site-packages/decorator.py\u001b[0m in \u001b[0;36mfun\u001b[0;34m(*args, **kw)\u001b[0m\n\u001b[1;32m    230\u001b[0m             \u001b[0;32mif\u001b[0m \u001b[0;32mnot\u001b[0m \u001b[0mkwsyntax\u001b[0m\u001b[0;34m:\u001b[0m\u001b[0;34m\u001b[0m\u001b[0;34m\u001b[0m\u001b[0m\n\u001b[1;32m    231\u001b[0m                 \u001b[0margs\u001b[0m\u001b[0;34m,\u001b[0m \u001b[0mkw\u001b[0m \u001b[0;34m=\u001b[0m \u001b[0mfix\u001b[0m\u001b[0;34m(\u001b[0m\u001b[0margs\u001b[0m\u001b[0;34m,\u001b[0m \u001b[0mkw\u001b[0m\u001b[0;34m,\u001b[0m \u001b[0msig\u001b[0m\u001b[0;34m)\u001b[0m\u001b[0;34m\u001b[0m\u001b[0;34m\u001b[0m\u001b[0m\n\u001b[0;32m--> 232\u001b[0;31m             \u001b[0;32mreturn\u001b[0m \u001b[0mcaller\u001b[0m\u001b[0;34m(\u001b[0m\u001b[0mfunc\u001b[0m\u001b[0;34m,\u001b[0m \u001b[0;34m*\u001b[0m\u001b[0;34m(\u001b[0m\u001b[0mextras\u001b[0m \u001b[0;34m+\u001b[0m \u001b[0margs\u001b[0m\u001b[0;34m)\u001b[0m\u001b[0;34m,\u001b[0m \u001b[0;34m**\u001b[0m\u001b[0mkw\u001b[0m\u001b[0;34m)\u001b[0m\u001b[0;34m\u001b[0m\u001b[0;34m\u001b[0m\u001b[0m\n\u001b[0m\u001b[1;32m    233\u001b[0m     \u001b[0mfun\u001b[0m\u001b[0;34m.\u001b[0m\u001b[0m__name__\u001b[0m \u001b[0;34m=\u001b[0m \u001b[0mfunc\u001b[0m\u001b[0;34m.\u001b[0m\u001b[0m__name__\u001b[0m\u001b[0;34m\u001b[0m\u001b[0;34m\u001b[0m\u001b[0m\n\u001b[1;32m    234\u001b[0m     \u001b[0mfun\u001b[0m\u001b[0;34m.\u001b[0m\u001b[0m__doc__\u001b[0m \u001b[0;34m=\u001b[0m \u001b[0mfunc\u001b[0m\u001b[0;34m.\u001b[0m\u001b[0m__doc__\u001b[0m\u001b[0;34m\u001b[0m\u001b[0;34m\u001b[0m\u001b[0m\n",
      "\u001b[0;32m~/opt/anaconda3/lib/python3.8/site-packages/IPython/core/magic.py\u001b[0m in \u001b[0;36m<lambda>\u001b[0;34m(f, *a, **k)\u001b[0m\n\u001b[1;32m    185\u001b[0m     \u001b[0;31m# but it's overkill for just that one bit of state.\u001b[0m\u001b[0;34m\u001b[0m\u001b[0;34m\u001b[0m\u001b[0;34m\u001b[0m\u001b[0m\n\u001b[1;32m    186\u001b[0m     \u001b[0;32mdef\u001b[0m \u001b[0mmagic_deco\u001b[0m\u001b[0;34m(\u001b[0m\u001b[0marg\u001b[0m\u001b[0;34m)\u001b[0m\u001b[0;34m:\u001b[0m\u001b[0;34m\u001b[0m\u001b[0;34m\u001b[0m\u001b[0m\n\u001b[0;32m--> 187\u001b[0;31m         \u001b[0mcall\u001b[0m \u001b[0;34m=\u001b[0m \u001b[0;32mlambda\u001b[0m \u001b[0mf\u001b[0m\u001b[0;34m,\u001b[0m \u001b[0;34m*\u001b[0m\u001b[0ma\u001b[0m\u001b[0;34m,\u001b[0m \u001b[0;34m**\u001b[0m\u001b[0mk\u001b[0m\u001b[0;34m:\u001b[0m \u001b[0mf\u001b[0m\u001b[0;34m(\u001b[0m\u001b[0;34m*\u001b[0m\u001b[0ma\u001b[0m\u001b[0;34m,\u001b[0m \u001b[0;34m**\u001b[0m\u001b[0mk\u001b[0m\u001b[0;34m)\u001b[0m\u001b[0;34m\u001b[0m\u001b[0;34m\u001b[0m\u001b[0m\n\u001b[0m\u001b[1;32m    188\u001b[0m \u001b[0;34m\u001b[0m\u001b[0m\n\u001b[1;32m    189\u001b[0m         \u001b[0;32mif\u001b[0m \u001b[0mcallable\u001b[0m\u001b[0;34m(\u001b[0m\u001b[0marg\u001b[0m\u001b[0;34m)\u001b[0m\u001b[0;34m:\u001b[0m\u001b[0;34m\u001b[0m\u001b[0;34m\u001b[0m\u001b[0m\n",
      "\u001b[0;32m~/opt/anaconda3/lib/python3.8/site-packages/IPython/core/magics/extension.py\u001b[0m in \u001b[0;36mload_ext\u001b[0;34m(self, module_str)\u001b[0m\n\u001b[1;32m     31\u001b[0m         \u001b[0;32mif\u001b[0m \u001b[0;32mnot\u001b[0m \u001b[0mmodule_str\u001b[0m\u001b[0;34m:\u001b[0m\u001b[0;34m\u001b[0m\u001b[0;34m\u001b[0m\u001b[0m\n\u001b[1;32m     32\u001b[0m             \u001b[0;32mraise\u001b[0m \u001b[0mUsageError\u001b[0m\u001b[0;34m(\u001b[0m\u001b[0;34m'Missing module name.'\u001b[0m\u001b[0;34m)\u001b[0m\u001b[0;34m\u001b[0m\u001b[0;34m\u001b[0m\u001b[0m\n\u001b[0;32m---> 33\u001b[0;31m         \u001b[0mres\u001b[0m \u001b[0;34m=\u001b[0m \u001b[0mself\u001b[0m\u001b[0;34m.\u001b[0m\u001b[0mshell\u001b[0m\u001b[0;34m.\u001b[0m\u001b[0mextension_manager\u001b[0m\u001b[0;34m.\u001b[0m\u001b[0mload_extension\u001b[0m\u001b[0;34m(\u001b[0m\u001b[0mmodule_str\u001b[0m\u001b[0;34m)\u001b[0m\u001b[0;34m\u001b[0m\u001b[0;34m\u001b[0m\u001b[0m\n\u001b[0m\u001b[1;32m     34\u001b[0m \u001b[0;34m\u001b[0m\u001b[0m\n\u001b[1;32m     35\u001b[0m         \u001b[0;32mif\u001b[0m \u001b[0mres\u001b[0m \u001b[0;34m==\u001b[0m \u001b[0;34m'already loaded'\u001b[0m\u001b[0;34m:\u001b[0m\u001b[0;34m\u001b[0m\u001b[0;34m\u001b[0m\u001b[0m\n",
      "\u001b[0;32m~/opt/anaconda3/lib/python3.8/site-packages/IPython/core/extensions.py\u001b[0m in \u001b[0;36mload_extension\u001b[0;34m(self, module_str)\u001b[0m\n\u001b[1;32m     78\u001b[0m             \u001b[0;32mif\u001b[0m \u001b[0mmodule_str\u001b[0m \u001b[0;32mnot\u001b[0m \u001b[0;32min\u001b[0m \u001b[0msys\u001b[0m\u001b[0;34m.\u001b[0m\u001b[0mmodules\u001b[0m\u001b[0;34m:\u001b[0m\u001b[0;34m\u001b[0m\u001b[0;34m\u001b[0m\u001b[0m\n\u001b[1;32m     79\u001b[0m                 \u001b[0;32mwith\u001b[0m \u001b[0mprepended_to_syspath\u001b[0m\u001b[0;34m(\u001b[0m\u001b[0mself\u001b[0m\u001b[0;34m.\u001b[0m\u001b[0mipython_extension_dir\u001b[0m\u001b[0;34m)\u001b[0m\u001b[0;34m:\u001b[0m\u001b[0;34m\u001b[0m\u001b[0;34m\u001b[0m\u001b[0m\n\u001b[0;32m---> 80\u001b[0;31m                     \u001b[0mmod\u001b[0m \u001b[0;34m=\u001b[0m \u001b[0mimport_module\u001b[0m\u001b[0;34m(\u001b[0m\u001b[0mmodule_str\u001b[0m\u001b[0;34m)\u001b[0m\u001b[0;34m\u001b[0m\u001b[0;34m\u001b[0m\u001b[0m\n\u001b[0m\u001b[1;32m     81\u001b[0m                     \u001b[0;32mif\u001b[0m \u001b[0mmod\u001b[0m\u001b[0;34m.\u001b[0m\u001b[0m__file__\u001b[0m\u001b[0;34m.\u001b[0m\u001b[0mstartswith\u001b[0m\u001b[0;34m(\u001b[0m\u001b[0mself\u001b[0m\u001b[0;34m.\u001b[0m\u001b[0mipython_extension_dir\u001b[0m\u001b[0;34m)\u001b[0m\u001b[0;34m:\u001b[0m\u001b[0;34m\u001b[0m\u001b[0;34m\u001b[0m\u001b[0m\n\u001b[1;32m     82\u001b[0m                         print((\"Loading extensions from {dir} is deprecated. \"\n",
      "\u001b[0;32m~/opt/anaconda3/lib/python3.8/importlib/__init__.py\u001b[0m in \u001b[0;36mimport_module\u001b[0;34m(name, package)\u001b[0m\n\u001b[1;32m    125\u001b[0m                 \u001b[0;32mbreak\u001b[0m\u001b[0;34m\u001b[0m\u001b[0;34m\u001b[0m\u001b[0m\n\u001b[1;32m    126\u001b[0m             \u001b[0mlevel\u001b[0m \u001b[0;34m+=\u001b[0m \u001b[0;36m1\u001b[0m\u001b[0;34m\u001b[0m\u001b[0;34m\u001b[0m\u001b[0m\n\u001b[0;32m--> 127\u001b[0;31m     \u001b[0;32mreturn\u001b[0m \u001b[0m_bootstrap\u001b[0m\u001b[0;34m.\u001b[0m\u001b[0m_gcd_import\u001b[0m\u001b[0;34m(\u001b[0m\u001b[0mname\u001b[0m\u001b[0;34m[\u001b[0m\u001b[0mlevel\u001b[0m\u001b[0;34m:\u001b[0m\u001b[0;34m]\u001b[0m\u001b[0;34m,\u001b[0m \u001b[0mpackage\u001b[0m\u001b[0;34m,\u001b[0m \u001b[0mlevel\u001b[0m\u001b[0;34m)\u001b[0m\u001b[0;34m\u001b[0m\u001b[0;34m\u001b[0m\u001b[0m\n\u001b[0m\u001b[1;32m    128\u001b[0m \u001b[0;34m\u001b[0m\u001b[0m\n\u001b[1;32m    129\u001b[0m \u001b[0;34m\u001b[0m\u001b[0m\n",
      "\u001b[0;32m~/opt/anaconda3/lib/python3.8/importlib/_bootstrap.py\u001b[0m in \u001b[0;36m_gcd_import\u001b[0;34m(name, package, level)\u001b[0m\n",
      "\u001b[0;32m~/opt/anaconda3/lib/python3.8/importlib/_bootstrap.py\u001b[0m in \u001b[0;36m_find_and_load\u001b[0;34m(name, import_)\u001b[0m\n",
      "\u001b[0;32m~/opt/anaconda3/lib/python3.8/importlib/_bootstrap.py\u001b[0m in \u001b[0;36m_find_and_load_unlocked\u001b[0;34m(name, import_)\u001b[0m\n",
      "\u001b[0;32m~/opt/anaconda3/lib/python3.8/importlib/_bootstrap.py\u001b[0m in \u001b[0;36m_load_unlocked\u001b[0;34m(spec)\u001b[0m\n",
      "\u001b[0;32m~/opt/anaconda3/lib/python3.8/importlib/_bootstrap_external.py\u001b[0m in \u001b[0;36mexec_module\u001b[0;34m(self, module)\u001b[0m\n",
      "\u001b[0;32m~/opt/anaconda3/lib/python3.8/importlib/_bootstrap.py\u001b[0m in \u001b[0;36m_call_with_frames_removed\u001b[0;34m(f, *args, **kwds)\u001b[0m\n",
      "\u001b[0;32m~/opt/anaconda3/lib/python3.8/site-packages/rpy2/ipython/__init__.py\u001b[0m in \u001b[0;36m<module>\u001b[0;34m\u001b[0m\n\u001b[0;32m----> 1\u001b[0;31m \u001b[0;32mfrom\u001b[0m \u001b[0;34m.\u001b[0m \u001b[0;32mimport\u001b[0m \u001b[0mrmagic\u001b[0m\u001b[0;34m\u001b[0m\u001b[0;34m\u001b[0m\u001b[0m\n\u001b[0m\u001b[1;32m      2\u001b[0m \u001b[0;34m\u001b[0m\u001b[0m\n\u001b[1;32m      3\u001b[0m \u001b[0mload_ipython_extension\u001b[0m \u001b[0;34m=\u001b[0m \u001b[0mrmagic\u001b[0m\u001b[0;34m.\u001b[0m\u001b[0mload_ipython_extension\u001b[0m\u001b[0;34m\u001b[0m\u001b[0;34m\u001b[0m\u001b[0m\n",
      "\u001b[0;32m~/opt/anaconda3/lib/python3.8/site-packages/rpy2/ipython/rmagic.py\u001b[0m in \u001b[0;36m<module>\u001b[0;34m\u001b[0m\n\u001b[1;32m     55\u001b[0m \u001b[0;32mimport\u001b[0m \u001b[0mrpy2\u001b[0m\u001b[0;34m.\u001b[0m\u001b[0mrinterface\u001b[0m \u001b[0;32mas\u001b[0m \u001b[0mri\u001b[0m\u001b[0;34m\u001b[0m\u001b[0;34m\u001b[0m\u001b[0m\n\u001b[1;32m     56\u001b[0m \u001b[0;32mimport\u001b[0m \u001b[0mrpy2\u001b[0m\u001b[0;34m.\u001b[0m\u001b[0mrinterface_lib\u001b[0m\u001b[0;34m.\u001b[0m\u001b[0mcallbacks\u001b[0m\u001b[0;34m\u001b[0m\u001b[0;34m\u001b[0m\u001b[0m\n\u001b[0;32m---> 57\u001b[0;31m \u001b[0;32mimport\u001b[0m \u001b[0mrpy2\u001b[0m\u001b[0;34m.\u001b[0m\u001b[0mrobjects\u001b[0m \u001b[0;32mas\u001b[0m \u001b[0mro\u001b[0m\u001b[0;34m\u001b[0m\u001b[0;34m\u001b[0m\u001b[0m\n\u001b[0m\u001b[1;32m     58\u001b[0m \u001b[0;32mimport\u001b[0m \u001b[0mrpy2\u001b[0m\u001b[0;34m.\u001b[0m\u001b[0mrobjects\u001b[0m\u001b[0;34m.\u001b[0m\u001b[0mpackages\u001b[0m \u001b[0;32mas\u001b[0m \u001b[0mrpacks\u001b[0m\u001b[0;34m\u001b[0m\u001b[0;34m\u001b[0m\u001b[0m\n\u001b[1;32m     59\u001b[0m \u001b[0;32mfrom\u001b[0m \u001b[0mrpy2\u001b[0m\u001b[0;34m.\u001b[0m\u001b[0mrobjects\u001b[0m\u001b[0;34m.\u001b[0m\u001b[0mlib\u001b[0m \u001b[0;32mimport\u001b[0m \u001b[0mgrdevices\u001b[0m\u001b[0;34m\u001b[0m\u001b[0;34m\u001b[0m\u001b[0m\n",
      "\u001b[0;32m~/opt/anaconda3/lib/python3.8/site-packages/rpy2/robjects/__init__.py\u001b[0m in \u001b[0;36m<module>\u001b[0;34m\u001b[0m\n\u001b[1;32m     17\u001b[0m \u001b[0;32mimport\u001b[0m \u001b[0mrpy2\u001b[0m\u001b[0;34m.\u001b[0m\u001b[0mrlike\u001b[0m\u001b[0;34m.\u001b[0m\u001b[0mcontainer\u001b[0m \u001b[0;32mas\u001b[0m \u001b[0mrlc\u001b[0m\u001b[0;34m\u001b[0m\u001b[0;34m\u001b[0m\u001b[0m\n\u001b[1;32m     18\u001b[0m \u001b[0;34m\u001b[0m\u001b[0m\n\u001b[0;32m---> 19\u001b[0;31m \u001b[0;32mfrom\u001b[0m \u001b[0mrpy2\u001b[0m\u001b[0;34m.\u001b[0m\u001b[0mrobjects\u001b[0m\u001b[0;34m.\u001b[0m\u001b[0mrobject\u001b[0m \u001b[0;32mimport\u001b[0m \u001b[0mRObjectMixin\u001b[0m\u001b[0;34m,\u001b[0m \u001b[0mRObject\u001b[0m\u001b[0;34m\u001b[0m\u001b[0;34m\u001b[0m\u001b[0m\n\u001b[0m\u001b[1;32m     20\u001b[0m \u001b[0;32mimport\u001b[0m \u001b[0mrpy2\u001b[0m\u001b[0;34m.\u001b[0m\u001b[0mrobjects\u001b[0m\u001b[0;34m.\u001b[0m\u001b[0mfunctions\u001b[0m\u001b[0;34m\u001b[0m\u001b[0;34m\u001b[0m\u001b[0m\n\u001b[1;32m     21\u001b[0m from rpy2.robjects.environments import (Environment,\n",
      "\u001b[0;32m~/opt/anaconda3/lib/python3.8/site-packages/rpy2/robjects/robject.py\u001b[0m in \u001b[0;36m<module>\u001b[0;34m\u001b[0m\n\u001b[1;32m     56\u001b[0m \u001b[0;34m\u001b[0m\u001b[0m\n\u001b[1;32m     57\u001b[0m \u001b[0;34m\u001b[0m\u001b[0m\n\u001b[0;32m---> 58\u001b[0;31m \u001b[0;32mclass\u001b[0m \u001b[0mRObjectMixin\u001b[0m\u001b[0;34m(\u001b[0m\u001b[0mobject\u001b[0m\u001b[0;34m)\u001b[0m\u001b[0;34m:\u001b[0m\u001b[0;34m\u001b[0m\u001b[0;34m\u001b[0m\u001b[0m\n\u001b[0m\u001b[1;32m     59\u001b[0m     \u001b[0;34m\"\"\" Class to provide methods common to all RObject instances. \"\"\"\u001b[0m\u001b[0;34m\u001b[0m\u001b[0;34m\u001b[0m\u001b[0m\n\u001b[1;32m     60\u001b[0m \u001b[0;34m\u001b[0m\u001b[0m\n",
      "\u001b[0;32m~/opt/anaconda3/lib/python3.8/site-packages/rpy2/robjects/robject.py\u001b[0m in \u001b[0;36mRObjectMixin\u001b[0;34m()\u001b[0m\n\u001b[1;32m     68\u001b[0m     \u001b[0m__readlines\u001b[0m \u001b[0;34m=\u001b[0m \u001b[0mrpy2\u001b[0m\u001b[0;34m.\u001b[0m\u001b[0mrinterface\u001b[0m\u001b[0;34m.\u001b[0m\u001b[0mbaseenv\u001b[0m\u001b[0;34m.\u001b[0m\u001b[0mfind\u001b[0m\u001b[0;34m(\u001b[0m\u001b[0;34m\"readLines\"\u001b[0m\u001b[0;34m)\u001b[0m\u001b[0;34m\u001b[0m\u001b[0;34m\u001b[0m\u001b[0m\n\u001b[1;32m     69\u001b[0m     \u001b[0m__unlink\u001b[0m \u001b[0;34m=\u001b[0m \u001b[0mrpy2\u001b[0m\u001b[0;34m.\u001b[0m\u001b[0mrinterface\u001b[0m\u001b[0;34m.\u001b[0m\u001b[0mbaseenv\u001b[0m\u001b[0;34m.\u001b[0m\u001b[0mfind\u001b[0m\u001b[0;34m(\u001b[0m\u001b[0;34m\"unlink\"\u001b[0m\u001b[0;34m)\u001b[0m\u001b[0;34m\u001b[0m\u001b[0;34m\u001b[0m\u001b[0m\n\u001b[0;32m---> 70\u001b[0;31m     \u001b[0m__show\u001b[0m \u001b[0;34m=\u001b[0m \u001b[0m_get_exported_value\u001b[0m\u001b[0;34m(\u001b[0m\u001b[0;34m'methods'\u001b[0m\u001b[0;34m,\u001b[0m \u001b[0;34m'show'\u001b[0m\u001b[0;34m)\u001b[0m\u001b[0;34m\u001b[0m\u001b[0;34m\u001b[0m\u001b[0m\n\u001b[0m\u001b[1;32m     71\u001b[0m \u001b[0;34m\u001b[0m\u001b[0m\n\u001b[1;32m     72\u001b[0m     \u001b[0m__slots\u001b[0m \u001b[0;34m=\u001b[0m \u001b[0;32mNone\u001b[0m\u001b[0;34m\u001b[0m\u001b[0;34m\u001b[0m\u001b[0m\n",
      "\u001b[0;32m~/opt/anaconda3/lib/python3.8/site-packages/rpy2/rinterface_lib/conversion.py\u001b[0m in \u001b[0;36m_\u001b[0;34m(*args, **kwargs)\u001b[0m\n\u001b[1;32m     43\u001b[0m \u001b[0;32mdef\u001b[0m \u001b[0m_cdata_res_to_rinterface\u001b[0m\u001b[0;34m(\u001b[0m\u001b[0mfunction\u001b[0m\u001b[0;34m)\u001b[0m\u001b[0;34m:\u001b[0m\u001b[0;34m\u001b[0m\u001b[0;34m\u001b[0m\u001b[0m\n\u001b[1;32m     44\u001b[0m     \u001b[0;32mdef\u001b[0m \u001b[0m_\u001b[0m\u001b[0;34m(\u001b[0m\u001b[0;34m*\u001b[0m\u001b[0margs\u001b[0m\u001b[0;34m,\u001b[0m \u001b[0;34m**\u001b[0m\u001b[0mkwargs\u001b[0m\u001b[0;34m)\u001b[0m\u001b[0;34m:\u001b[0m\u001b[0;34m\u001b[0m\u001b[0;34m\u001b[0m\u001b[0m\n\u001b[0;32m---> 45\u001b[0;31m         \u001b[0mcdata\u001b[0m \u001b[0;34m=\u001b[0m \u001b[0mfunction\u001b[0m\u001b[0;34m(\u001b[0m\u001b[0;34m*\u001b[0m\u001b[0margs\u001b[0m\u001b[0;34m,\u001b[0m \u001b[0;34m**\u001b[0m\u001b[0mkwargs\u001b[0m\u001b[0;34m)\u001b[0m\u001b[0;34m\u001b[0m\u001b[0;34m\u001b[0m\u001b[0m\n\u001b[0m\u001b[1;32m     46\u001b[0m         \u001b[0;31m# TODO: test cdata is of the expected CType\u001b[0m\u001b[0;34m\u001b[0m\u001b[0;34m\u001b[0m\u001b[0;34m\u001b[0m\u001b[0m\n\u001b[1;32m     47\u001b[0m         \u001b[0;32mreturn\u001b[0m \u001b[0m_cdata_to_rinterface\u001b[0m\u001b[0;34m(\u001b[0m\u001b[0mcdata\u001b[0m\u001b[0;34m)\u001b[0m\u001b[0;34m\u001b[0m\u001b[0;34m\u001b[0m\u001b[0m\n",
      "\u001b[0;32m~/opt/anaconda3/lib/python3.8/site-packages/rpy2/rinterface.py\u001b[0m in \u001b[0;36m__call__\u001b[0;34m(self, *args, **kwargs)\u001b[0m\n\u001b[1;32m    678\u001b[0m             )\n\u001b[1;32m    679\u001b[0m             \u001b[0;32mif\u001b[0m \u001b[0merror_occured\u001b[0m\u001b[0;34m[\u001b[0m\u001b[0;36m0\u001b[0m\u001b[0;34m]\u001b[0m\u001b[0;34m:\u001b[0m\u001b[0;34m\u001b[0m\u001b[0;34m\u001b[0m\u001b[0m\n\u001b[0;32m--> 680\u001b[0;31m                 \u001b[0;32mraise\u001b[0m \u001b[0membedded\u001b[0m\u001b[0;34m.\u001b[0m\u001b[0mRRuntimeError\u001b[0m\u001b[0;34m(\u001b[0m\u001b[0m_rinterface\u001b[0m\u001b[0;34m.\u001b[0m\u001b[0m_geterrmessage\u001b[0m\u001b[0;34m(\u001b[0m\u001b[0;34m)\u001b[0m\u001b[0;34m)\u001b[0m\u001b[0;34m\u001b[0m\u001b[0;34m\u001b[0m\u001b[0m\n\u001b[0m\u001b[1;32m    681\u001b[0m         \u001b[0;32mreturn\u001b[0m \u001b[0mres\u001b[0m\u001b[0;34m\u001b[0m\u001b[0;34m\u001b[0m\u001b[0m\n\u001b[1;32m    682\u001b[0m \u001b[0;34m\u001b[0m\u001b[0m\n",
      "\u001b[0;31mRRuntimeError\u001b[0m: Error in value[[3L]](cond) : \n  공유된 객체 '/Users/ko/opt/anaconda3/lib/R/library/methods/libs/methods.so'를 로드 할 수 없습니다:\n  dlopen(/Users/ko/opt/anaconda3/lib/R/library/methods/libs/methods.so, 6): Library not loaded: @rpath/libreadline.6.2.dylib\n  Referenced from: /Users/ko/opt/anaconda3/lib/R/lib/libR.dylib\n  Reason: image not found\n"
     ]
    }
   ],
   "source": [
    "#To use R in notebook\n",
    "import subprocess\n",
    "subprocess.run('conda install -c conda-forge r-base', shell=True)\n",
    "!pip install rpy2\n",
    "%load_ext rpy2.ipython\n",
    "import rpy2"
   ]
  },
  {
   "cell_type": "code",
   "execution_count": 5,
   "metadata": {
    "ExecuteTime": {
     "end_time": "2021-06-08T08:49:23.585018Z",
     "start_time": "2021-06-08T08:49:23.571906Z"
    }
   },
   "outputs": [],
   "source": [
    "#csv 파일 읽어오기\n",
    "os.chdir(\"C:/Users/kw102/Desktop/2021-1학기 비대면수업/통계데이터베이스/기말고사\")\n",
    "station = pd.read_csv(\"./Station.csv\", header = 0, encoding='UTF-8')\n",
    "air = pd.read_csv(\"./AirQuality.csv\", header = 0, encoding='UTF-8')\n",
    "passenger = pd.read_csv(\"./Passengers.csv\", header = 0, encoding='UTF-8')"
   ]
  },
  {
   "cell_type": "code",
   "execution_count": 6,
   "metadata": {
    "ExecuteTime": {
     "end_time": "2021-06-08T08:49:25.301549Z",
     "start_time": "2021-06-08T08:49:24.182355Z"
    }
   },
   "outputs": [
    {
     "name": "stdout",
     "output_type": "stream",
     "text": [
      "        0    1       2            3      4                   5       6\n",
      "0     150  1호선     서울역         None   None                None    None\n",
      "1     151  1호선      시청           명동  태평로1가     서울시 중구 태평로1가 31  4519.0\n",
      "2     152  1호선      종각  종로1.2.3.4가동   종로1가     서울시 종로구 종로1가 44  3161.0\n",
      "3     153  1호선    종로3가  종로1.2.3.4가동   종로3가  서울시 종로구 종로3가 61-68  3139.0\n",
      "4     154  1호선    종로5가      종로5.6가동   종로5가  서울시 종로구 종로5가 124-8  3195.0\n",
      "..    ...  ...     ...          ...    ...                 ...     ...\n",
      "286  4134  9호선    송파나루         None   None                None    None\n",
      "287  4135  9호선    한성백제         None   None                None    None\n",
      "288  4136  9호선   올림픽공원         None   None                None    None\n",
      "289  4137  9호선    둔촌오륜         None   None                None    None\n",
      "290  4138  9호선  중앙보훈병원         None   None                None    None\n",
      "\n",
      "[291 rows x 7 columns]\n"
     ]
    }
   ],
   "source": [
    "############################DB 생성###############################################\n",
    "#StationData.db를 생성\n",
    "conn = sqlite3.connect(\"./StationData.db\", isolation_level = None)\n",
    "\n",
    "#커서 생성\n",
    "c = conn.cursor()\n",
    "\n",
    "#####1. Station 테이블 생성#####\n",
    "sql = \"\"\"CREATE TABLE IF NOT EXISTS Station\n",
    "        (StationID TEXT,\n",
    "        Line TEXT not null,\n",
    "        Name TEXT not null,\n",
    "        HDOng TEXT,\n",
    "        BDong TEXT,\n",
    "        Address TEXT,\n",
    "        ZipCode TEXT,\n",
    "        PRIMARY KEY(StationID) )\"\"\"\n",
    "\n",
    "c.execute(sql)\n",
    "\n",
    "#정상적으로 만들어졌는지 확인\n",
    "sql = \"\"\"SELECT count(*) FROM sqlite_master WHERE name = 'Station'\"\"\"\n",
    "c.execute(sql)\n",
    "c.fetchone()\n",
    "\n",
    "#기존 Station(csv 파일) 데이터프레임을 append하여 새로 테이블 생성\n",
    "station.to_sql('Station', conn, if_exists='append', index=False)\n",
    "\n",
    "#데이터 확인 & 변수 생성\n",
    "sql = \"\"\"SELECT * FROM Station\"\"\"\n",
    "c.execute(sql)\n",
    "Station = pd.DataFrame(c.fetchall())\n",
    "print(Station)\n",
    "#############################"
   ]
  },
  {
   "cell_type": "code",
   "execution_count": 7,
   "metadata": {
    "ExecuteTime": {
     "end_time": "2021-06-08T08:49:35.090717Z",
     "start_time": "2021-06-08T08:49:26.344438Z"
    }
   },
   "outputs": [
    {
     "name": "stdout",
     "output_type": "stream",
     "text": [
      "         0   1        2\n",
      "0      150   1  3364130\n",
      "1      150   2  3026680\n",
      "2      150   3  3446064\n",
      "3      150   4  3473124\n",
      "4      150   5  3563150\n",
      "...    ...  ..      ...\n",
      "3451  4138   8   274651\n",
      "3452  4138   9   272538\n",
      "3453  4138  10   319228\n",
      "3454  4138  11   314536\n",
      "3455  4138  12   320079\n",
      "\n",
      "[3456 rows x 3 columns]\n"
     ]
    }
   ],
   "source": [
    "#####2. Passengers 테이블 생성#####\n",
    "sql = \"\"\"CREATE TABLE IF NOT EXISTS Passengers\n",
    "        (StationID TEXT,\n",
    "        Month INTAGER,\n",
    "        PCount INTAGER not null,\n",
    "        PRIMARY KEY (StationID, Month),\n",
    "        FOREIGN KEY (StationID) REFERENCES Station )\"\"\"\n",
    "\n",
    "c.execute(sql)\n",
    "\n",
    "#정상적으로 만들어졌는지 확인\n",
    "sql = \"\"\"SELECT count(*) FROM sqlite_master WHERE name = 'Passengers'\"\"\"\n",
    "c.execute(sql)\n",
    "c.fetchone()\n",
    "\n",
    "#기존 Station(csv 파일) 데이터프레임을 append하여 새로 테이블 생성\n",
    "passenger.to_sql('Passengers', conn, if_exists='append', index=False)\n",
    "\n",
    "#데이터 확인 & 변수 생성\n",
    "sql = \"\"\"SELECT * FROM Passengers\"\"\"\n",
    "c.execute(sql)\n",
    "Passengers = pd.DataFrame(c.fetchall())\n",
    "print(Passengers)\n",
    "#############################"
   ]
  },
  {
   "cell_type": "code",
   "execution_count": 8,
   "metadata": {
    "ExecuteTime": {
     "end_time": "2021-06-08T08:49:37.125711Z",
     "start_time": "2021-06-08T08:49:36.469271Z"
    }
   },
   "outputs": [
    {
     "name": "stdout",
     "output_type": "stream",
     "text": [
      "        0     1    2     3    4\n",
      "0     150  70.5  606   4.0  0.8\n",
      "1     151  54.7  581   4.4  0.7\n",
      "2     152  82.9  471  11.5  0.7\n",
      "3     153  70.4  481  11.0  1.0\n",
      "4     154  70.2  597   5.7  0.8\n",
      "..    ...   ...  ...   ...  ...\n",
      "249  2823  43.2  504   5.9  0.5\n",
      "250  2824  47.0  518   6.9  0.5\n",
      "251  2825  59.6  511  31.3  0.5\n",
      "252  2826  71.6  490  12.9  0.6\n",
      "253  2827  97.0  483   5.4  0.5\n",
      "\n",
      "[254 rows x 5 columns]\n"
     ]
    }
   ],
   "source": [
    "#####3. AirQuality 테이블 생성#####\n",
    "sql = \"\"\"CREATE TABLE IF NOT EXISTS AirQuality\n",
    "        (StationID TEXT,\n",
    "        FineDust REAL not null,\n",
    "        CarbonDioxide INTAGER not null,\n",
    "        Formaldehyde REAL not null,\n",
    "        CarbonMonoxide REAL not null,\n",
    "        PRIMARY KEY (StationID),\n",
    "        FOREIGN KEY (StationID) REFERENCES Station )\"\"\"\n",
    "\n",
    "c.execute(sql)\n",
    "\n",
    "#정상적으로 만들어졌는지 확인\n",
    "sql = \"\"\"SELECT count(*) FROM sqlite_master WHERE name = 'AirQuality'\"\"\"\n",
    "c.execute(sql)\n",
    "c.fetchone()\n",
    "\n",
    "#기존 Station(csv 파일) 데이터프레임을 append하여 새로 테이블 생성\n",
    "air.to_sql('AirQuality', conn, if_exists='append', index=False)\n",
    "\n",
    "#데이터 확인 & 변수 생성\n",
    "sql = \"\"\"SELECT * FROM Airquality\"\"\"\n",
    "c.execute(sql)\n",
    "AirQuality = pd.DataFrame(c.fetchall())\n",
    "print(AirQuality)\n",
    "##############################\n",
    "###########################################################################"
   ]
  },
  {
   "cell_type": "code",
   "execution_count": 9,
   "metadata": {
    "ExecuteTime": {
     "end_time": "2021-06-08T08:49:39.866363Z",
     "start_time": "2021-06-08T08:49:39.857853Z"
    }
   },
   "outputs": [],
   "source": [
    "#################################데이터 요약#####################################\n",
    "#열 이름 변경\n",
    "Station.columns = [\"StationID\", \"Line\", \"Name\", \"HDong\", \"BDong\", \"Address\", \"ZipCode\"]\n",
    "Passengers.columns = [\"StationID\", \"Month\", \"PCount\"]\n",
    "AirQuality.columns = [\"StationID\", \"FineDust\", \"CarbonDioxide\", \"Formaldehyde\", \"CarbonMonoxide\"]"
   ]
  },
  {
   "cell_type": "code",
   "execution_count": 10,
   "metadata": {
    "ExecuteTime": {
     "end_time": "2021-06-08T08:49:41.912544Z",
     "start_time": "2021-06-08T08:49:41.879479Z"
    }
   },
   "outputs": [
    {
     "name": "stdout",
     "output_type": "stream",
     "text": [
      "송파구    21\n",
      "dtype: int64\n",
      "신당동    7\n",
      "Name: BDong, dtype: int64\n"
     ]
    }
   ],
   "source": [
    "###Station 데이터 요약###\n",
    "#호선별 역의 개수\n",
    "sql = \"\"\"SELECT Line, COUNT(*) StationNum\n",
    "        FROM Station\n",
    "        GROUP BY Line\"\"\"\n",
    "\n",
    "c.execute(sql)\n",
    "c.fetchall()\n",
    "\n",
    "#구별 지하철역의 개수\n",
    "cityList = []\n",
    "for i in range(len(Station)):\n",
    "    if Station.Address[i] is not None:\n",
    "        city = Station.Address[i].split()[1]\n",
    "        cityList.append(city)\n",
    "\n",
    "print(pd.Series(cityList).value_counts()[0:1]) #송파구가 가장 많이 다닌다\n",
    "\n",
    "#동별 지하철역의 개수\n",
    "print(Station.BDong.value_counts()[0:1]) #신당동이 가장 많이 다닌다\n",
    "\n",
    "#########################\n"
   ]
  },
  {
   "cell_type": "code",
   "execution_count": 11,
   "metadata": {
    "ExecuteTime": {
     "end_time": "2021-06-08T08:49:44.128687Z",
     "start_time": "2021-06-08T08:49:43.982499Z"
    }
   },
   "outputs": [
    {
     "data": {
      "text/plain": [
       "[('1호선', 1676416.3416666666),\n",
       " ('2호선', 1887544.28),\n",
       " ('3호선', 1054804.0454545454),\n",
       " ('4호선', 1361769.2596153845)]"
      ]
     },
     "execution_count": 11,
     "metadata": {},
     "output_type": "execute_result"
    },
    {
     "data": {
      "image/png": "[encoded data removed]",
      "text/plain": [
       "<Figure size 432x288 with 1 Axes>"
      ]
     },
     "metadata": {
      "needs_background": "light"
     },
     "output_type": "display_data"
    }
   ],
   "source": [
    "######Passengers 데이터 요약######\n",
    "\n",
    "#Passengers의 요약통계량\n",
    "Passengers.describe()\n",
    "\n",
    "#승객 수의 상자그림\n",
    "plt.boxplot(Passengers.PCount)\n",
    "\n",
    "#평균 승객 수 => 1034625\n",
    "sql = \"\"\"SELECT AVG(P.PCount) AVGPassengers\n",
    "        FROM Station S\n",
    "        JOIN Passengers P\n",
    "        ON S.StationID = P.StationID\"\"\"\n",
    "\n",
    "c.execute(sql)\n",
    "c.fetchall()\n",
    "\n",
    "#평균 승객 수보다 승객이 많은 호선\n",
    "sql = \"\"\"SELECT S.LINE, AVG(P.PCount) AVGPassengers\n",
    "        FROM Station S\n",
    "        JOIN Passengers P\n",
    "        ON S.StationID = P.StationID\n",
    "        GROUP BY S.Line\n",
    "        HAVING AVGPassengers >= 1034625\"\"\"\n",
    "\n",
    "c.execute(sql)\n",
    "c.fetchall() # 1, 2, 3, 4호선은 승객이 많이 탄다.\n",
    "\n",
    "##########################"
   ]
  },
  {
   "cell_type": "code",
   "execution_count": 17,
   "metadata": {
    "ExecuteTime": {
     "end_time": "2021-06-08T08:50:54.377343Z",
     "start_time": "2021-06-08T08:50:54.049749Z"
    }
   },
   "outputs": [
    {
     "name": "stdout",
     "output_type": "stream",
     "text": [
      "         FineDust  CarbonDioxide  Formaldehyde  CarbonMonoxide\n",
      "count  254.000000     254.000000    254.000000      254.000000\n",
      "mean    66.042520     549.688976      7.103543        0.727559\n",
      "std     25.288442      85.605087      4.082289        0.262453\n",
      "min     20.000000     419.000000      1.400000        0.300000\n",
      "25%     48.850000     494.250000      4.625000        0.500000\n",
      "50%     63.850000     532.500000      6.100000        0.700000\n",
      "75%     78.850000     588.500000      8.675000        0.800000\n",
      "max    155.300000     932.000000     33.600000        2.200000\n"
     ]
    },
    {
     "data": {
      "image/png": "[encoded data removed]",
      "text/plain": [
       "<Figure size 432x288 with 1 Axes>"
      ]
     },
     "metadata": {
      "needs_background": "light"
     },
     "output_type": "display_data"
    },
    {
     "data": {
      "image/png": "[encoded data removed]",
      "text/plain": [
       "<Figure size 432x288 with 1 Axes>"
      ]
     },
     "metadata": {
      "needs_background": "light"
     },
     "output_type": "display_data"
    },
    {
     "data": {
      "image/png": "[encoded data removed]",
      "text/plain": [
       "<Figure size 432x288 with 1 Axes>"
      ]
     },
     "metadata": {
      "needs_background": "light"
     },
     "output_type": "display_data"
    },
    {
     "data": {
      "image/png": "[encoded data removed]",
      "text/plain": [
       "<Figure size 432x288 with 1 Axes>"
      ]
     },
     "metadata": {
      "needs_background": "light"
     },
     "output_type": "display_data"
    },
    {
     "data": {
      "text/plain": [
       "[('1호선', 0.82), ('5호선', 0.9725490196078433)]"
      ]
     },
     "execution_count": 17,
     "metadata": {},
     "output_type": "execute_result"
    }
   ],
   "source": [
    "#####AirQuality 데이터 요약#####\n",
    "\n",
    "#AirQuality의 요약통게량\n",
    "print(AirQuality.describe())\n",
    "\n",
    "#지표별 상자그림\n",
    "plt.boxplot(AirQuality.FineDust)\n",
    "plt.title(\"FineDust\")\n",
    "plt.show()\n",
    "\n",
    "plt.boxplot(AirQuality.CarbonDioxide)\n",
    "plt.title(\"CarbonDioxide\")\n",
    "plt.show()\n",
    "\n",
    "plt.boxplot(AirQuality.Formaldehyde)\n",
    "plt.title(\"Formaldehyde\")\n",
    "plt.show()\n",
    "\n",
    "plt.boxplot(AirQuality.CarbonDioxide)\n",
    "plt.title(\"CarbonMonoxide\")\n",
    "plt.show()\n",
    "\n",
    "##미세먼지 농도가 평균이상인 호선 구하기\n",
    "#평균 미세먼지 농도\n",
    "AirQuality.FineDust.mean() #66.04\n",
    "\n",
    "#평균 미세먼지 농도보다 높은 호선\n",
    "sql = \"\"\"SELECT S.Line, AVG(A.FineDust) AVGDust\n",
    "        FROM Station S\n",
    "        JOIN AirQuality A\n",
    "        ON S.StationID = A.StationID\n",
    "        GROUP BY S.Line\n",
    "        HAVING AVGDust > 66.04\"\"\"\n",
    "c.execute(sql)\n",
    "c.fetchall()\n",
    "\n",
    "\n",
    "##이산화탄소 농도가 평균이상인 호선 구하기\n",
    "#평균 이산화탄소 농도\n",
    "AirQuality.CarbonDioxide.mean() #550\n",
    "\n",
    "#평균 이산화탄소 농도보다 높은 호선\n",
    "sql = \"\"\"SELECT S.Line, AVG(A.CarbonDioxide) AVGCO2\n",
    "        FROM Station S\n",
    "        JOIN AirQuality A\n",
    "        ON S.StationID = A.StationID\n",
    "        GROUP BY S.Line\n",
    "        HAVING AVGCO2 > 550\"\"\"\n",
    "c.execute(sql)\n",
    "c.fetchall()\n",
    "\n",
    "\n",
    "##포름알데히드 농도가 평균이상인 호선 구하기\n",
    "#평균 포름알데히드 농도\n",
    "AirQuality.Formaldehyde.mean() #7.1\n",
    "\n",
    "#평균 포름알데히드 농도보다 높은 호선\n",
    "sql = \"\"\"SELECT S.Line, AVG(A.Formaldehyde) AVGForm\n",
    "        FROM Station S\n",
    "        JOIN AirQuality A\n",
    "        ON S.StationID = A.StationID\n",
    "        GROUP BY S.Line\n",
    "        HAVING AVGForm > 7.1\"\"\"\n",
    "c.execute(sql)\n",
    "c.fetchall()\n",
    "\n",
    "##일산화탄소 농도가 평균이상인 호선 구하기\n",
    "#평균 일산화탄소 농도\n",
    "AirQuality.CarbonMonoxide.mean() #0.7275\n",
    "\n",
    "#평균 일산화탄소 농도보다 높은 호선\n",
    "sql = \"\"\"SELECT S.Line, AVG(A.CarbonMonoxide) AVGCO\n",
    "        FROM Station S\n",
    "        JOIN AirQuality A\n",
    "        ON S.StationID = A.StationID\n",
    "        GROUP BY S.Line\n",
    "        HAVING AVGCO > 0.7275\"\"\"\n",
    "c.execute(sql)\n",
    "c.fetchall()\n",
    "\n",
    "##############################################\n",
    "\n",
    "##############################################################################"
   ]
  },
  {
   "cell_type": "code",
   "execution_count": 13,
   "metadata": {
    "ExecuteTime": {
     "end_time": "2021-06-08T08:49:52.375002Z",
     "start_time": "2021-06-08T08:49:50.921395Z"
    }
   },
   "outputs": [
    {
     "data": {
      "image/png": "[encoded data removed]",
      "text/plain": [
       "<Figure size 432x288 with 1 Axes>"
      ]
     },
     "metadata": {
      "needs_background": "light"
     },
     "output_type": "display_data"
    },
    {
     "data": {
      "image/png": "[encoded data removed]",
      "text/plain": [
       "<Figure size 432x288 with 1 Axes>"
      ]
     },
     "metadata": {
      "needs_background": "light"
     },
     "output_type": "display_data"
    },
    {
     "data": {
      "image/png": "[encoded data removed]",
      "text/plain": [
       "<Figure size 432x288 with 1 Axes>"
      ]
     },
     "metadata": {
      "needs_background": "light"
     },
     "output_type": "display_data"
    },
    {
     "data": {
      "image/png": "[encoded data removed]",
      "text/plain": [
       "<Figure size 432x288 with 1 Axes>"
      ]
     },
     "metadata": {
      "needs_background": "light"
     },
     "output_type": "display_data"
    },
    {
     "data": {
      "image/png": "[encoded data removed]",
      "text/plain": [
       "<Figure size 432x288 with 1 Axes>"
      ]
     },
     "metadata": {
      "needs_background": "light"
     },
     "output_type": "display_data"
    },
    {
     "data": {
      "image/png": "[encoded data removed]",
      "text/plain": [
       "<Figure size 432x288 with 1 Axes>"
      ]
     },
     "metadata": {
      "needs_background": "light"
     },
     "output_type": "display_data"
    },
    {
     "name": "stderr",
     "output_type": "stream",
     "text": [
      "C:\\Users\\kw102\\anaconda3\\lib\\site-packages\\seaborn\\_decorators.py:36: FutureWarning: Pass the following variables as keyword args: x, y. From version 0.12, the only valid positional argument will be `data`, and passing other arguments without an explicit keyword will result in an error or misinterpretation.\n",
      "  warnings.warn(\n"
     ]
    },
    {
     "data": {
      "text/html": [
       "<div>\n",
       "<style scoped>\n",
       "    .dataframe tbody tr th:only-of-type {\n",
       "        vertical-align: middle;\n",
       "    }\n",
       "\n",
       "    .dataframe tbody tr th {\n",
       "        vertical-align: top;\n",
       "    }\n",
       "\n",
       "    .dataframe thead th {\n",
       "        text-align: right;\n",
       "    }\n",
       "</style>\n",
       "<table border=\"1\" class=\"dataframe\">\n",
       "  <thead>\n",
       "    <tr style=\"text-align: right;\">\n",
       "      <th></th>\n",
       "      <th>FineDust</th>\n",
       "      <th>CarbonDioxide</th>\n",
       "      <th>Formaldehyde</th>\n",
       "      <th>CarbonMonoxide</th>\n",
       "    </tr>\n",
       "  </thead>\n",
       "  <tbody>\n",
       "    <tr>\n",
       "      <th>FineDust</th>\n",
       "      <td>1.000000</td>\n",
       "      <td>0.213432</td>\n",
       "      <td>0.203924</td>\n",
       "      <td>0.091755</td>\n",
       "    </tr>\n",
       "    <tr>\n",
       "      <th>CarbonDioxide</th>\n",
       "      <td>0.213432</td>\n",
       "      <td>1.000000</td>\n",
       "      <td>0.152869</td>\n",
       "      <td>0.035304</td>\n",
       "    </tr>\n",
       "    <tr>\n",
       "      <th>Formaldehyde</th>\n",
       "      <td>0.203924</td>\n",
       "      <td>0.152869</td>\n",
       "      <td>1.000000</td>\n",
       "      <td>0.236049</td>\n",
       "    </tr>\n",
       "    <tr>\n",
       "      <th>CarbonMonoxide</th>\n",
       "      <td>0.091755</td>\n",
       "      <td>0.035304</td>\n",
       "      <td>0.236049</td>\n",
       "      <td>1.000000</td>\n",
       "    </tr>\n",
       "  </tbody>\n",
       "</table>\n",
       "</div>"
      ],
      "text/plain": [
       "                FineDust  CarbonDioxide  Formaldehyde  CarbonMonoxide\n",
       "FineDust        1.000000       0.213432      0.203924        0.091755\n",
       "CarbonDioxide   0.213432       1.000000      0.152869        0.035304\n",
       "Formaldehyde    0.203924       0.152869      1.000000        0.236049\n",
       "CarbonMonoxide  0.091755       0.035304      0.236049        1.000000"
      ]
     },
     "execution_count": 13,
     "metadata": {},
     "output_type": "execute_result"
    },
    {
     "data": {
      "image/png": "[encoded data removed]",
      "text/plain": [
       "<Figure size 432x288 with 1 Axes>"
      ]
     },
     "metadata": {
      "needs_background": "light"
     },
     "output_type": "display_data"
    }
   ],
   "source": [
    "###################################데이터 분석#####################################\n",
    "\n",
    "####월별 / 호선별 / 방학기간별 승객수의 차이 분석####\n",
    "\n",
    "##1) 호선별 승객수 분석\n",
    "\n",
    "#DB에서 역별 월평균 승객수 추출\n",
    "sql = \"\"\"SELECT S.StationID, S.Name, S.Line, AVG(P.PCount) AVGPassengers\n",
    "        FROM Station S\n",
    "        JOIN Passengers P\n",
    "        ON S.StationID = P.StationID\n",
    "        GROUP BY P.StationID\"\"\"\n",
    "\n",
    "c.execute(sql)\n",
    "AVGP = pd.DataFrame(c.fetchall()) #가져온 데이터 저장\n",
    "AVGP.columns = ['StationID', 'Name', 'Line', 'AVGPassengers']\n",
    "\n",
    "#호선별 승객수 boxplot 확인\n",
    "sns.boxplot(x = 'Line',y = 'AVGPassengers', data = AVGP)\n",
    "plt.show()\n",
    "\n",
    "#호선별 승객수의 평균이 차이가 있는지 검정(ANOVA)\n",
    "\n",
    "model = ols('AVGPassengers ~ Line', data = AVGP).fit()\n",
    "anova_lm(model)  #*유의수준 0.05에서 p-value < 0.05이므로, 영가설 H0 : 호선별 평균 승객수는 같다를 기각한다.\n",
    "                 #*호선별 승객수는 같다고 할 수 없다.\n",
    "\n",
    "    \n",
    "##2) 월별 승객수 분석\n",
    "\n",
    "#월별 승객수 boxplot 확인\n",
    "sns.boxplot(x = 'Month', y = 'PCount', data = Passengers)\n",
    "plt.show()\n",
    "\n",
    "#월별 승객수의 평균이 차이가 있는지 검정(ANOVA)\n",
    "\n",
    "model = ols('PCount ~ Month', data = Passengers).fit()\n",
    "anova_lm(model)\n",
    "                #* p-value > 0.05이므로, 영가설을 기각하지 못한다.\n",
    "                #* 따라서 월별 승객수는 같다고 할 수 있다.\n",
    "        \n",
    "        \n",
    "#방학 기간과 비방학 기간(1,2, 8,9월 -> 방학)별 평균의 차이가 있는지 검정(t test)\n",
    "\n",
    "#방학일 경우 vaction은 1, 아니면 0을 반환하는 함수\n",
    "def is_vacation(month):\n",
    "    if(month in [1, 2, 8 ,9]):\n",
    "        return True\n",
    "    else:\n",
    "        return False\n",
    "\n",
    "#모든 월에 대해 방학인지 아닌지 판별하는 Vacation 속성 생성\n",
    "Passengers['Vacation'] = Passengers['Month'].apply(lambda x : is_vacation(x))\n",
    "\n",
    "#방학 / 비방학별 승객의 평균\n",
    "Passengers['PCount'].groupby(Passengers['Vacation']).mean() # 10%정도 방학일때 승객이 적다\n",
    "\n",
    "#두 개의 집단의 평균이 같은지 검정(ttest) \n",
    "ttest_ind(Passengers[Passengers.Vacation == False].PCount, \n",
    "          Passengers[Passengers.Vacation == True].PCount)\n",
    "                      #* P-vaule < 0.05로 H0 : 두 모평균이 같다 를 기각한다\n",
    "                      #* 즉 방학일 때와 비방학일 때 승객의 수가 유의한 차이가 있다고 할 수 있다.\n",
    "\n",
    "        \n",
    "###호선별 / 구별 대기상태 분석####\n",
    "\n",
    "\n",
    "##1) 호선별 대기상태 확인\n",
    "\n",
    "#역 정보와 대기상태 JOIN\n",
    "sql = \"\"\"SELECT S.Name, S.Line, A.FineDust, A.CarbonDioxide, A.Formaldehyde, A.CarbonMonoxide\n",
    "        FROM Station S\n",
    "        JOIN AirQuality A\n",
    "        ON S.StationID = A.StationID\"\"\"\n",
    "\n",
    "c.execute(sql)\n",
    "Air = pd.DataFrame(c.fetchall())\n",
    "Air.columns = ['Name', 'Line', \"FineDust\", 'CarbonDioxide', 'Formaldehyde', 'CarbonMonoxide']\n",
    "\n",
    "#호선별 대기상태 boxplot (CO2와 CO가 호선에 따라 다르게 보인다)\n",
    "#호선별 미세먼지 상자그림\n",
    "sns.boxplot(x = 'Line', y = 'FineDust', data = Air)\n",
    "plt.show()\n",
    "#호선별 CO2 상자그림\n",
    "sns.boxplot(x = 'Line', y = 'CarbonDioxide', data = Air)\n",
    "plt.show()\n",
    "#호선별 포름알데히드 상자그림\n",
    "sns.boxplot(x = 'Line', y = 'Formaldehyde', data = Air)\n",
    "plt.show()\n",
    "#호선별 CO 상자그림\n",
    "sns.boxplot(x = 'Line', y = 'CarbonMonoxide', data = Air)\n",
    "plt.show()\n",
    "\n",
    "\n",
    "#호선별 각 대기품질 지표 anova\n",
    "model = ols('FineDust ~ Line', data = Air).fit()\n",
    "anova_lm(model)\n",
    "\n",
    "model = ols('CarbonDioxide ~ Line', data = Air).fit()\n",
    "anova_lm(model)\n",
    "\n",
    "model = ols('Formaldehyde ~ Line', data = Air).fit()\n",
    "anova_lm(model)\n",
    "\n",
    "model = ols('CarbonMonoxide ~ Line', data = Air).fit()\n",
    "anova_lm(model)\n",
    "#* boxplot에서 보이는 것처럼 Co2와 CO의 p-value < 0.05로 호선별 평균이 같다고 할 수 없다.\n",
    "#* 따라서 호선별로 CO2와 CO농도의 차이가 있다.\n",
    "\n",
    "\n",
    "#이산화탄소 농도와 일산화탄소 농도의 관계\n",
    "sns.scatterplot(Air.CarbonDioxide, Air.CarbonMonoxide, data = Air) #산점도로는 둘이 관계가 없어보인다.\n",
    "\n",
    "#각 지표간 상관계수 행렬 \n",
    "Air.iloc[:, 2:7].corr(method = 'pearson')#상관계수가 0.2이하인것으로 보아 서로 상관관계가 없다고 할 수 있다.\n",
    "\n",
    "\n",
    "####################################################################################"
   ]
  }
 ],
 "metadata": {
  "kernelspec": {
   "display_name": "Python 3 (ipykernel)",
   "language": "python",
   "name": "python3"
  },
  "language_info": {
   "codemirror_mode": {
    "name": "ipython",
    "version": 3
   },
   "file_extension": ".py",
   "mimetype": "text/x-python",
   "name": "python",
   "nbconvert_exporter": "python",
   "pygments_lexer": "ipython3",
   "version": "3.8.11"
  },
  "toc": {
   "base_numbering": 1,
   "nav_menu": {},
   "number_sections": true,
   "sideBar": true,
   "skip_h1_title": false,
   "title_cell": "Table of Contents",
   "title_sidebar": "Contents",
   "toc_cell": false,
   "toc_position": {},
   "toc_section_display": true,
   "toc_window_display": false
  }
 },
 "nbformat": 4,
 "nbformat_minor": 4
}
